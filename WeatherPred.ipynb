{
 "cells": [
  {
   "cell_type": "markdown",
   "metadata": {},
   "source": [
    "# Weather Prediction"
   ]
  },
  {
   "cell_type": "markdown",
   "metadata": {},
   "source": [
    "#### First we will try predicting the weather condition using the Random Forest model."
   ]
  },
  {
   "cell_type": "markdown",
   "metadata": {},
   "source": [
    "Importing the necessary libraries."
   ]
  },
  {
   "cell_type": "code",
   "execution_count": 23,
   "metadata": {},
   "outputs": [],
   "source": [
    "import numpy as np\n",
    "import pandas as pd\n",
    "import matplotlib.pyplot as plt\n",
    "import seaborn as sns\n",
    "from sklearn.linear_model import LinearRegression\n",
    "from sklearn.model_selection import train_test_split, learning_curve\n",
    "from sklearn.ensemble import RandomForestClassifier\n",
    "from sklearn.tree import export_graphviz\n",
    "from sklearn.metrics import accuracy_score, confusion_matrix, classification_report"
   ]
  },
  {
   "cell_type": "markdown",
   "metadata": {},
   "source": [
    "Importing the dataset and reading it"
   ]
  },
  {
   "cell_type": "code",
   "execution_count": 24,
   "metadata": {},
   "outputs": [
    {
     "data": {
      "text/html": [
       "<div>\n",
       "<style scoped>\n",
       "    .dataframe tbody tr th:only-of-type {\n",
       "        vertical-align: middle;\n",
       "    }\n",
       "\n",
       "    .dataframe tbody tr th {\n",
       "        vertical-align: top;\n",
       "    }\n",
       "\n",
       "    .dataframe thead th {\n",
       "        text-align: right;\n",
       "    }\n",
       "</style>\n",
       "<table border=\"1\" class=\"dataframe\">\n",
       "  <thead>\n",
       "    <tr style=\"text-align: right;\">\n",
       "      <th></th>\n",
       "      <th>Date</th>\n",
       "      <th>Month</th>\n",
       "      <th>Year</th>\n",
       "      <th>RF</th>\n",
       "      <th>T_max</th>\n",
       "      <th>T_min</th>\n",
       "      <th>Avg_tem</th>\n",
       "    </tr>\n",
       "  </thead>\n",
       "  <tbody>\n",
       "    <tr>\n",
       "      <th>0</th>\n",
       "      <td>1</td>\n",
       "      <td>10</td>\n",
       "      <td>2013</td>\n",
       "      <td>0.0</td>\n",
       "      <td>31.1</td>\n",
       "      <td>25.8</td>\n",
       "      <td>28.45</td>\n",
       "    </tr>\n",
       "    <tr>\n",
       "      <th>1</th>\n",
       "      <td>2</td>\n",
       "      <td>10</td>\n",
       "      <td>2013</td>\n",
       "      <td>0.0</td>\n",
       "      <td>31.3</td>\n",
       "      <td>27.5</td>\n",
       "      <td>29.40</td>\n",
       "    </tr>\n",
       "    <tr>\n",
       "      <th>2</th>\n",
       "      <td>3</td>\n",
       "      <td>10</td>\n",
       "      <td>2013</td>\n",
       "      <td>1.6</td>\n",
       "      <td>31.3</td>\n",
       "      <td>27.3</td>\n",
       "      <td>29.30</td>\n",
       "    </tr>\n",
       "    <tr>\n",
       "      <th>3</th>\n",
       "      <td>4</td>\n",
       "      <td>10</td>\n",
       "      <td>2013</td>\n",
       "      <td>5.8</td>\n",
       "      <td>30.7</td>\n",
       "      <td>25.7</td>\n",
       "      <td>28.20</td>\n",
       "    </tr>\n",
       "    <tr>\n",
       "      <th>4</th>\n",
       "      <td>5</td>\n",
       "      <td>10</td>\n",
       "      <td>2013</td>\n",
       "      <td>0.3</td>\n",
       "      <td>30.8</td>\n",
       "      <td>24.4</td>\n",
       "      <td>27.60</td>\n",
       "    </tr>\n",
       "    <tr>\n",
       "      <th>...</th>\n",
       "      <td>...</td>\n",
       "      <td>...</td>\n",
       "      <td>...</td>\n",
       "      <td>...</td>\n",
       "      <td>...</td>\n",
       "      <td>...</td>\n",
       "      <td>...</td>\n",
       "    </tr>\n",
       "    <tr>\n",
       "      <th>3647</th>\n",
       "      <td>26</td>\n",
       "      <td>9</td>\n",
       "      <td>2023</td>\n",
       "      <td>18.4</td>\n",
       "      <td>31.3</td>\n",
       "      <td>26.4</td>\n",
       "      <td>28.85</td>\n",
       "    </tr>\n",
       "    <tr>\n",
       "      <th>3648</th>\n",
       "      <td>27</td>\n",
       "      <td>9</td>\n",
       "      <td>2023</td>\n",
       "      <td>42.4</td>\n",
       "      <td>29.8</td>\n",
       "      <td>25.2</td>\n",
       "      <td>27.50</td>\n",
       "    </tr>\n",
       "    <tr>\n",
       "      <th>3649</th>\n",
       "      <td>28</td>\n",
       "      <td>9</td>\n",
       "      <td>2023</td>\n",
       "      <td>63.4</td>\n",
       "      <td>28.7</td>\n",
       "      <td>24.6</td>\n",
       "      <td>26.65</td>\n",
       "    </tr>\n",
       "    <tr>\n",
       "      <th>3650</th>\n",
       "      <td>29</td>\n",
       "      <td>9</td>\n",
       "      <td>2023</td>\n",
       "      <td>60.3</td>\n",
       "      <td>29.8</td>\n",
       "      <td>23.8</td>\n",
       "      <td>26.80</td>\n",
       "    </tr>\n",
       "    <tr>\n",
       "      <th>3651</th>\n",
       "      <td>30</td>\n",
       "      <td>9</td>\n",
       "      <td>2023</td>\n",
       "      <td>29.6</td>\n",
       "      <td>30.4</td>\n",
       "      <td>23.5</td>\n",
       "      <td>26.95</td>\n",
       "    </tr>\n",
       "  </tbody>\n",
       "</table>\n",
       "<p>3652 rows × 7 columns</p>\n",
       "</div>"
      ],
      "text/plain": [
       "      Date  Month  Year    RF  T_max   T_min  Avg_tem\n",
       "0        1     10  2013   0.0    31.1   25.8    28.45\n",
       "1        2     10  2013   0.0    31.3   27.5    29.40\n",
       "2        3     10  2013   1.6    31.3   27.3    29.30\n",
       "3        4     10  2013   5.8    30.7   25.7    28.20\n",
       "4        5     10  2013   0.3    30.8   24.4    27.60\n",
       "...    ...    ...   ...   ...     ...    ...      ...\n",
       "3647    26      9  2023  18.4    31.3   26.4    28.85\n",
       "3648    27      9  2023  42.4    29.8   25.2    27.50\n",
       "3649    28      9  2023  63.4    28.7   24.6    26.65\n",
       "3650    29      9  2023  60.3    29.8   23.8    26.80\n",
       "3651    30      9  2023  29.6    30.4   23.5    26.95\n",
       "\n",
       "[3652 rows x 7 columns]"
      ]
     },
     "execution_count": 24,
     "metadata": {},
     "output_type": "execute_result"
    }
   ],
   "source": [
    "weather_df = pd.read_csv(\"WeatherSL.csv\")\n",
    "weather_df"
   ]
  },
  {
   "cell_type": "markdown",
   "metadata": {},
   "source": [
    "Analysing the data type of each column in the dataset."
   ]
  },
  {
   "cell_type": "code",
   "execution_count": 25,
   "metadata": {},
   "outputs": [
    {
     "data": {
      "text/plain": [
       "Date         int64\n",
       "Month        int64\n",
       "Year         int64\n",
       "RF         float64\n",
       "T_max      float64\n",
       "T_min      float64\n",
       "Avg_tem    float64\n",
       "dtype: object"
      ]
     },
     "execution_count": 25,
     "metadata": {},
     "output_type": "execute_result"
    }
   ],
   "source": [
    "weather_df.dtypes"
   ]
  },
  {
   "cell_type": "markdown",
   "metadata": {},
   "source": [
    "The dataset is checked for null values."
   ]
  },
  {
   "cell_type": "code",
   "execution_count": 26,
   "metadata": {},
   "outputs": [
    {
     "data": {
      "text/plain": [
       "Date       0\n",
       "Month      0\n",
       "Year       0\n",
       "RF         0\n",
       "T_max      0\n",
       "T_min      0\n",
       "Avg_tem    0\n",
       "dtype: int64"
      ]
     },
     "execution_count": 26,
     "metadata": {},
     "output_type": "execute_result"
    }
   ],
   "source": [
    "weather_df.isnull().sum()"
   ]
  },
  {
   "cell_type": "markdown",
   "metadata": {},
   "source": [
    "Since there are no null values in the dataset, we do not need to handle that. "
   ]
  },
  {
   "cell_type": "markdown",
   "metadata": {},
   "source": [
    "Two separate lists are initialized to store the rainfall and the average temperature values."
   ]
  },
  {
   "cell_type": "code",
   "execution_count": 27,
   "metadata": {},
   "outputs": [
    {
     "data": {
      "text/plain": [
       "0       28.45\n",
       "1       29.40\n",
       "2       29.30\n",
       "3       28.20\n",
       "4       27.60\n",
       "        ...  \n",
       "3647    28.85\n",
       "3648    27.50\n",
       "3649    26.65\n",
       "3650    26.80\n",
       "3651    26.95\n",
       "Name: Avg_tem, Length: 3652, dtype: float64"
      ]
     },
     "execution_count": 27,
     "metadata": {},
     "output_type": "execute_result"
    }
   ],
   "source": [
    "average_temp = weather_df[\"Avg_tem\"]\n",
    "average_temp"
   ]
  },
  {
   "cell_type": "code",
   "execution_count": 28,
   "metadata": {},
   "outputs": [
    {
     "data": {
      "text/plain": [
       "0        0.0\n",
       "1        0.0\n",
       "2        1.6\n",
       "3        5.8\n",
       "4        0.3\n",
       "        ... \n",
       "3647    18.4\n",
       "3648    42.4\n",
       "3649    63.4\n",
       "3650    60.3\n",
       "3651    29.6\n",
       "Name: RF, Length: 3652, dtype: float64"
      ]
     },
     "execution_count": 28,
     "metadata": {},
     "output_type": "execute_result"
    }
   ],
   "source": [
    "rainfall = weather_df['RF']\n",
    "rainfall"
   ]
  },
  {
   "cell_type": "markdown",
   "metadata": {},
   "source": [
    "Now categorical values are created to define the weather conditions using nested if conditions."
   ]
  },
  {
   "cell_type": "code",
   "execution_count": 31,
   "metadata": {},
   "outputs": [
    {
     "name": "stdout",
     "output_type": "stream",
     "text": [
      "Length of the weather list is 3652\n"
     ]
    }
   ],
   "source": [
    "weather_condition = []\n",
    "\n",
    "for temp, rain in zip(average_temp, rainfall):\n",
    "    if temp >= 27 and temp <= 29:\n",
    "        if rain >= 6.5 and  rain <= 8.5:\n",
    "            weather_condition.append(\"Normal Normal\")\n",
    "        elif rain > 8.5:\n",
    "            weather_condition.append(\"Normal Wet\")\n",
    "        elif rain < 6.5:\n",
    "            weather_condition.append(\"Normal Dry\")\n",
    "    elif temp < 27:\n",
    "        if rain >= 6.5 and  rain <= 8.5:\n",
    "            weather_condition.append(\"Cold Normal\")\n",
    "        elif rain > 8.5:\n",
    "            weather_condition.append(\"Cold Wet\")\n",
    "        elif rain < 6.5:\n",
    "            weather_condition.append(\"Cold Dry\")\n",
    "    elif temp > 29:\n",
    "        if rain >= 6.5 and  rain <= 8.5:\n",
    "            weather_condition.append(\"Warm Normal\")\n",
    "        elif rain > 8.5:\n",
    "            weather_condition.append(\"Warm Wet\")\n",
    "        elif rain < 6.5:\n",
    "            weather_condition.append(\"Warm Dry\")\n",
    "\n",
    "print(f\"Length of the weather list is {len(weather_condition)}\")\n"
   ]
  },
  {
   "cell_type": "markdown",
   "metadata": {},
   "source": [
    "A custom column called weather condition is created based on the nested if created above and the respective condition is assigned for each row."
   ]
  },
  {
   "cell_type": "code",
   "execution_count": 32,
   "metadata": {},
   "outputs": [
    {
     "data": {
      "text/html": [
       "<div>\n",
       "<style scoped>\n",
       "    .dataframe tbody tr th:only-of-type {\n",
       "        vertical-align: middle;\n",
       "    }\n",
       "\n",
       "    .dataframe tbody tr th {\n",
       "        vertical-align: top;\n",
       "    }\n",
       "\n",
       "    .dataframe thead th {\n",
       "        text-align: right;\n",
       "    }\n",
       "</style>\n",
       "<table border=\"1\" class=\"dataframe\">\n",
       "  <thead>\n",
       "    <tr style=\"text-align: right;\">\n",
       "      <th></th>\n",
       "      <th>Date</th>\n",
       "      <th>Month</th>\n",
       "      <th>Year</th>\n",
       "      <th>RF</th>\n",
       "      <th>T_max</th>\n",
       "      <th>T_min</th>\n",
       "      <th>Avg_tem</th>\n",
       "      <th>Weather_condition</th>\n",
       "    </tr>\n",
       "  </thead>\n",
       "  <tbody>\n",
       "    <tr>\n",
       "      <th>0</th>\n",
       "      <td>1</td>\n",
       "      <td>10</td>\n",
       "      <td>2013</td>\n",
       "      <td>0.0</td>\n",
       "      <td>31.1</td>\n",
       "      <td>25.8</td>\n",
       "      <td>28.45</td>\n",
       "      <td>Normal Dry</td>\n",
       "    </tr>\n",
       "    <tr>\n",
       "      <th>1</th>\n",
       "      <td>2</td>\n",
       "      <td>10</td>\n",
       "      <td>2013</td>\n",
       "      <td>0.0</td>\n",
       "      <td>31.3</td>\n",
       "      <td>27.5</td>\n",
       "      <td>29.40</td>\n",
       "      <td>Warm Dry</td>\n",
       "    </tr>\n",
       "    <tr>\n",
       "      <th>2</th>\n",
       "      <td>3</td>\n",
       "      <td>10</td>\n",
       "      <td>2013</td>\n",
       "      <td>1.6</td>\n",
       "      <td>31.3</td>\n",
       "      <td>27.3</td>\n",
       "      <td>29.30</td>\n",
       "      <td>Warm Dry</td>\n",
       "    </tr>\n",
       "    <tr>\n",
       "      <th>3</th>\n",
       "      <td>4</td>\n",
       "      <td>10</td>\n",
       "      <td>2013</td>\n",
       "      <td>5.8</td>\n",
       "      <td>30.7</td>\n",
       "      <td>25.7</td>\n",
       "      <td>28.20</td>\n",
       "      <td>Normal Dry</td>\n",
       "    </tr>\n",
       "    <tr>\n",
       "      <th>4</th>\n",
       "      <td>5</td>\n",
       "      <td>10</td>\n",
       "      <td>2013</td>\n",
       "      <td>0.3</td>\n",
       "      <td>30.8</td>\n",
       "      <td>24.4</td>\n",
       "      <td>27.60</td>\n",
       "      <td>Normal Dry</td>\n",
       "    </tr>\n",
       "  </tbody>\n",
       "</table>\n",
       "</div>"
      ],
      "text/plain": [
       "   Date  Month  Year   RF  T_max   T_min  Avg_tem Weather_condition\n",
       "0     1     10  2013  0.0    31.1   25.8    28.45        Normal Dry\n",
       "1     2     10  2013  0.0    31.3   27.5    29.40          Warm Dry\n",
       "2     3     10  2013  1.6    31.3   27.3    29.30          Warm Dry\n",
       "3     4     10  2013  5.8    30.7   25.7    28.20        Normal Dry\n",
       "4     5     10  2013  0.3    30.8   24.4    27.60        Normal Dry"
      ]
     },
     "execution_count": 32,
     "metadata": {},
     "output_type": "execute_result"
    }
   ],
   "source": [
    "weather_df[\"Weather_condition\"] = weather_condition\n",
    "weather_df.head()"
   ]
  },
  {
   "cell_type": "markdown",
   "metadata": {},
   "source": [
    "The entries for each weather condition is displayed for further analysis."
   ]
  },
  {
   "cell_type": "code",
   "execution_count": 33,
   "metadata": {},
   "outputs": [
    {
     "name": "stdout",
     "output_type": "stream",
     "text": [
      "Number of Normal Normal Weather:  Weather_condition    83\n",
      "dtype: int64\n",
      "Number of Normal Wet Weather:  Weather_condition    497\n",
      "dtype: int64\n",
      "Number of Normal Dry Weahter:  Weather_condition    1837\n",
      "dtype: int64\n",
      "Number of Cold Normal Weather:  Weather_condition    14\n",
      "dtype: int64\n",
      "Number of Cold Wet Weather:  Weather_condition    132\n",
      "dtype: int64\n",
      "Number of Cold Dry Weahter:  Weather_condition    236\n",
      "dtype: int64\n",
      "Number of Warm Normal Weather:  Weather_condition    22\n",
      "dtype: int64\n",
      "Number of Warm Wet Weather:  Weather_condition    99\n",
      "dtype: int64\n",
      "Number of Warm Dry Weahter:  Weather_condition    732\n",
      "dtype: int64\n"
     ]
    }
   ],
   "source": [
    "print('Number of Normal Normal Weather: ',weather_df[['Weather_condition']].query(\"Weather_condition == 'Normal Normal'\").count())\n",
    "print('Number of Normal Wet Weather: ',weather_df[['Weather_condition']].query(\"Weather_condition == 'Normal Wet'\").count())\n",
    "print('Number of Normal Dry Weahter: ',weather_df[['Weather_condition']].query(\"Weather_condition == 'Normal Dry'\").count())\n",
    "\n",
    "print('Number of Cold Normal Weather: ',weather_df[['Weather_condition']].query(\"Weather_condition == 'Cold Normal'\").count())\n",
    "print('Number of Cold Wet Weather: ',weather_df[['Weather_condition']].query(\"Weather_condition == 'Cold Wet'\").count())\n",
    "print('Number of Cold Dry Weahter: ',weather_df[['Weather_condition']].query(\"Weather_condition == 'Cold Dry'\").count())\n",
    "\n",
    "print('Number of Warm Normal Weather: ',weather_df[['Weather_condition']].query(\"Weather_condition == 'Warm Normal'\").count())\n",
    "print('Number of Warm Wet Weather: ',weather_df[['Weather_condition']].query(\"Weather_condition == 'Warm Wet'\").count())\n",
    "print('Number of Warm Dry Weahter: ',weather_df[['Weather_condition']].query(\"Weather_condition == 'Warm Dry'\").count())"
   ]
  },
  {
   "cell_type": "markdown",
   "metadata": {},
   "source": [
    "Making a list of all the features in the dataset."
   ]
  },
  {
   "cell_type": "code",
   "execution_count": 34,
   "metadata": {},
   "outputs": [],
   "source": [
    "dataset_features = weather_df.columns\n",
    "dataset_features = [i for i in dataset_features if i != \"Weather_condition\"]\n",
    "dataset_features\n",
    "classes = ['Normal Normal', 'Normal Wet', 'Normal Dry', 'Cold Normal', 'Cold Wet', 'Cold Dry', 'Warm Normal', 'Warm Wet', 'Warm Dry']"
   ]
  },
  {
   "cell_type": "code",
   "execution_count": 35,
   "metadata": {},
   "outputs": [
    {
     "data": {
      "text/plain": [
       "['Date', 'Month', 'Year', 'RF', 'T_max ', 'T_min', 'Avg_tem']"
      ]
     },
     "execution_count": 35,
     "metadata": {},
     "output_type": "execute_result"
    }
   ],
   "source": [
    "dataset_features"
   ]
  },
  {
   "cell_type": "markdown",
   "metadata": {},
   "source": [
    "The data has to be split into Training and Testing components."
   ]
  },
  {
   "cell_type": "code",
   "execution_count": 36,
   "metadata": {},
   "outputs": [
    {
     "name": "stdout",
     "output_type": "stream",
     "text": [
      "Number of total entries is 3652\n",
      "Entries in the training dataset is 2921\n",
      "Entries in the testing dataset is 731\n"
     ]
    }
   ],
   "source": [
    "training, testing = train_test_split(weather_df, test_size=0.2, random_state=42)\n",
    "print(f\"Number of total entries is {len(weather_df)}\")\n",
    "print(f\"Entries in the training dataset is {len(training)}\")\n",
    "print(f\"Entries in the testing dataset is {len(testing)}\")"
   ]
  },
  {
   "cell_type": "markdown",
   "metadata": {},
   "source": [
    "Splitting into x and y components."
   ]
  },
  {
   "cell_type": "code",
   "execution_count": 37,
   "metadata": {},
   "outputs": [],
   "source": [
    "x_train = training[dataset_features]\n",
    "y_train = training[\"Weather_condition\"]\n",
    "\n",
    "x_test = testing[dataset_features]\n",
    "y_test = testing[\"Weather_condition\"]"
   ]
  },
  {
   "cell_type": "markdown",
   "metadata": {},
   "source": [
    "Creating the Random Forest Classifier Model"
   ]
  },
  {
   "cell_type": "code",
   "execution_count": 38,
   "metadata": {},
   "outputs": [],
   "source": [
    "model = RandomForestClassifier(n_estimators=200, max_depth=5, min_samples_leaf= 20, random_state=42)\n",
    "\n",
    "# the model is trained using the training component of the dataset\n",
    "model.fit(x_train, y_train)\n",
    "\n",
    "# the model is tested using the testing component of the dataset\n",
    "y_prediction = model.predict(x_test)\n"
   ]
  },
  {
   "cell_type": "markdown",
   "metadata": {},
   "source": [
    "Calculating a few metrics to analyse the performance of the model."
   ]
  },
  {
   "cell_type": "code",
   "execution_count": 39,
   "metadata": {},
   "outputs": [
    {
     "name": "stdout",
     "output_type": "stream",
     "text": [
      "Accuracy of the model is: 0.9863201094391245\n",
      "               precision    recall  f1-score   support\n",
      "\n",
      "     Cold Dry       1.00      1.00      1.00        58\n",
      "  Cold Normal       0.00      0.00      0.00         3\n",
      "     Cold Wet       0.88      0.96      0.92        24\n",
      "   Normal Dry       1.00      1.00      1.00       358\n",
      "Normal Normal       1.00      0.76      0.87        17\n",
      "   Normal Wet       0.95      1.00      0.98       103\n",
      "     Warm Dry       1.00      1.00      1.00       146\n",
      "  Warm Normal       0.00      0.00      0.00         2\n",
      "     Warm Wet       0.91      1.00      0.95        20\n",
      "\n",
      "     accuracy                           0.99       731\n",
      "    macro avg       0.75      0.75      0.75       731\n",
      " weighted avg       0.98      0.99      0.98       731\n",
      "\n"
     ]
    },
    {
     "name": "stderr",
     "output_type": "stream",
     "text": [
      "c:\\Users\\arkha\\anaconda3\\Lib\\site-packages\\sklearn\\metrics\\_classification.py:1469: UndefinedMetricWarning: Precision and F-score are ill-defined and being set to 0.0 in labels with no predicted samples. Use `zero_division` parameter to control this behavior.\n",
      "  _warn_prf(average, modifier, msg_start, len(result))\n",
      "c:\\Users\\arkha\\anaconda3\\Lib\\site-packages\\sklearn\\metrics\\_classification.py:1469: UndefinedMetricWarning: Precision and F-score are ill-defined and being set to 0.0 in labels with no predicted samples. Use `zero_division` parameter to control this behavior.\n",
      "  _warn_prf(average, modifier, msg_start, len(result))\n",
      "c:\\Users\\arkha\\anaconda3\\Lib\\site-packages\\sklearn\\metrics\\_classification.py:1469: UndefinedMetricWarning: Precision and F-score are ill-defined and being set to 0.0 in labels with no predicted samples. Use `zero_division` parameter to control this behavior.\n",
      "  _warn_prf(average, modifier, msg_start, len(result))\n"
     ]
    },
    {
     "data": {
      "image/png": "[encoded data removed]",
      "text/plain": [
       "<Figure size 600x600 with 1 Axes>"
      ]
     },
     "metadata": {},
     "output_type": "display_data"
    }
   ],
   "source": [
    "accuracy  = accuracy_score(y_test, y_prediction)\n",
    "print(f\"Accuracy of the model is: {accuracy}\")\n",
    "\n",
    "print(classification_report(y_test, y_prediction))\n",
    "\n",
    "conf_matrix = confusion_matrix(y_test, y_prediction)\n",
    "\n",
    "# plotting the confusion matrix\n",
    "plt.figure(figsize=(6, 6))\n",
    "sns.heatmap(conf_matrix, annot=True, fmt=\"d\", cmap=\"Blues\", cbar=False,\n",
    "            xticklabels=model.classes_, yticklabels=model.classes_)\n",
    "plt.title(\"Confusion Matrix\")\n",
    "plt.xlabel(\"Predicted Label\")\n",
    "plt.ylabel(\"True Label\")\n",
    "plt.show()"
   ]
  },
  {
   "cell_type": "markdown",
   "metadata": {},
   "source": [
    "The model has an accuracy of 98.63%"
   ]
  },
  {
   "cell_type": "markdown",
   "metadata": {},
   "source": [
    "A learning curve is created for the model."
   ]
  },
  {
   "cell_type": "code",
   "execution_count": 40,
   "metadata": {},
   "outputs": [
    {
     "data": {
      "image/png": "[encoded data removed]",
      "text/plain": [
       "<Figure size 640x480 with 1 Axes>"
      ]
     },
     "metadata": {},
     "output_type": "display_data"
    }
   ],
   "source": [
    "train_size, train_score, test_score = learning_curve(model, x_train, y_train, cv=5, scoring=\"accuracy\", train_sizes=np.linspace(0.1,1.0,10))\n",
    "training_mean = np.mean(train_score, axis=1)\n",
    "testing_mean = np.mean(test_score, axis=1)\n",
    "\n",
    "plt.plot(train_size, training_mean, label=\"Training accuracy\")\n",
    "plt.plot(train_size, testing_mean, label=\"Testing Accuracy\")\n",
    "plt.xlabel(\"Training size\")\n",
    "plt.ylabel(\"Accuracy\")\n",
    "plt.legend()\n",
    "plt.show()"
   ]
  }
 ],
 "metadata": {
  "kernelspec": {
   "display_name": "base",
   "language": "python",
   "name": "python3"
  },
  "language_info": {
   "codemirror_mode": {
    "name": "ipython",
    "version": 3
   },
   "file_extension": ".py",
   "mimetype": "text/x-python",
   "name": "python",
   "nbconvert_exporter": "python",
   "pygments_lexer": "ipython3",
   "version": "3.11.5"
  }
 },
 "nbformat": 4,
 "nbformat_minor": 2
}
